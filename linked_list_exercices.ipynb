{
 "cells": [
  {
   "cell_type": "markdown",
   "id": "ebb3bbba-d3f3-4743-b377-6c439ec29084",
   "metadata": {},
   "source": [
    "# Liked List Exercises"
   ]
  },
  {
   "cell_type": "code",
   "execution_count": 11,
   "id": "1284ab17-aa2a-469c-bb32-abc3bb4f275a",
   "metadata": {},
   "outputs": [],
   "source": [
    "# Node\n",
    "class Node:\n",
    "    def __init__(self, value):\n",
    "        self.value = value\n",
    "        self.next = None"
   ]
  },
  {
   "cell_type": "code",
   "execution_count": 21,
   "id": "d1554d39-78d6-47a6-8a06-9050e1e10d69",
   "metadata": {},
   "outputs": [],
   "source": [
    "# Simple Linked List with append\n",
    "class LinkedList:\n",
    "    def __init__(self,):\n",
    "        self.head = None\n",
    "        self.tail = None\n",
    "\n",
    "    def append(self, value):\n",
    "        new_node = Node(value)\n",
    "\n",
    "        if not self.head:\n",
    "            self.head = new_node\n",
    "            self.tail = new_node\n",
    "        else:\n",
    "            self.tail.next = new_node\n",
    "            self.tail = new_node\n",
    "        \n",
    "# Create a linked list\n",
    "ll = LinkedList()\n",
    "ll.append(3)\n",
    "ll.append(2)\n",
    "ll.append(0)\n",
    "ll.append(-4)"
   ]
  },
  {
   "cell_type": "code",
   "execution_count": 23,
   "id": "135e7146-02f9-4821-8b50-d6d699219218",
   "metadata": {},
   "outputs": [],
   "source": [
    "# Traverse LL: A method to iterate through the list and print each node's value.\n",
    "\n",
    "class LinkedList:\n",
    "    def __init__(self,):\n",
    "        self.head = None\n",
    "        self.tail = None\n",
    "\n",
    "    def append(self, value):\n",
    "        new_node = Node(value)\n",
    "\n",
    "        if not self.head:\n",
    "            self.head = new_node\n",
    "            self.tail = new_node\n",
    "        else:\n",
    "            self.tail.next = new_node\n",
    "            self.tail = new_node\n",
    "\n",
    "    def traverse(self):\n",
    "        current = self.head\n",
    "        while current:\n",
    "            print('value: ', current.value)\n",
    "            current = current.next\n",
    "        print(\"The End\")\n",
    "\n",
    "# Create a linked list\n",
    "ll = LinkedList()\n",
    "ll.append(3)\n",
    "ll.append(2)\n",
    "ll.append(0)\n",
    "ll.append(-4)"
   ]
  },
  {
   "cell_type": "code",
   "execution_count": 25,
   "id": "d6c0a42d-e4e7-4f06-887f-9c660fc98b47",
   "metadata": {},
   "outputs": [
    {
     "name": "stdout",
     "output_type": "stream",
     "text": [
      "value:  3\n",
      "value:  2\n",
      "value:  0\n",
      "value:  -4\n",
      "The End\n"
     ]
    }
   ],
   "source": [
    "ll.traverse()"
   ]
  },
  {
   "cell_type": "code",
   "execution_count": 173,
   "id": "88c744e4-1a7a-4317-98f4-8a92fd824713",
   "metadata": {},
   "outputs": [],
   "source": [
    "# Insertion: Adding a new node at a specified position in the list. Special handling is needed for inserting at the beginning.\n",
    "\n",
    "class LinkedList:\n",
    "    def __init__(self,):\n",
    "        self.head = None\n",
    "        self.tail = None\n",
    "\n",
    "    def append(self, value):\n",
    "        new_node = Node(value)\n",
    "\n",
    "        if not self.head:\n",
    "            self.head = new_node\n",
    "            self.tail = new_node\n",
    "        else:\n",
    "            self.tail.next = new_node\n",
    "            self.tail = new_node\n",
    "\n",
    "    def traverse(self):\n",
    "        current = self.head\n",
    "        while current:\n",
    "            print('value: ', current.value)\n",
    "            current = current.next\n",
    "        print(\"The End\")\n",
    "\n",
    "    def insert(self, value, pos):\n",
    "        new_node = Node(value)\n",
    "        \n",
    "        if pos <0:\n",
    "            raise IndexError(\"Position out of bounds\")\n",
    "\n",
    "        if pos == 0:\n",
    "            new_node.next = self.head\n",
    "            self.head = new_node\n",
    "            if not self.tail:\n",
    "                self.tail = new_node\n",
    "        else:  \n",
    "            current = self.head\n",
    "            for _ in range(pos-1):    \n",
    "                if current is None:\n",
    "                    raise IndexError(\"Position out of bounds\")\n",
    "                    \n",
    "                current = current.next\n",
    "            \n",
    "            if current is None:\n",
    "                raise IndexError(\"Position out of bounds\")\n",
    "                \n",
    "            new_node.next = current.next\n",
    "            current.next = new_node\n",
    "\n",
    "            if not new_node.next:\n",
    "                self.tail = new_node\n",
    "        \n",
    "# Create a linked list\n",
    "ll = LinkedList()\n",
    "ll.append(3)\n",
    "ll.append(2)\n",
    "ll.append(0)\n",
    "ll.append(-4)"
   ]
  },
  {
   "cell_type": "code",
   "execution_count": 175,
   "id": "8b91bb49-96ac-489e-9610-04eb6ed7b25f",
   "metadata": {},
   "outputs": [
    {
     "name": "stdout",
     "output_type": "stream",
     "text": [
      "value:  3\n",
      "value:  2\n",
      "value:  0\n",
      "value:  -4\n",
      "The End\n"
     ]
    }
   ],
   "source": [
    "ll.traverse()"
   ]
  },
  {
   "cell_type": "code",
   "execution_count": 177,
   "id": "f6512403-fee3-42ef-b4cc-d17c43493bc4",
   "metadata": {},
   "outputs": [],
   "source": [
    "ll.insert(5, 4)"
   ]
  },
  {
   "cell_type": "code",
   "execution_count": 179,
   "id": "89601f67-75c8-4252-b7e9-7499deeb9c91",
   "metadata": {},
   "outputs": [
    {
     "name": "stdout",
     "output_type": "stream",
     "text": [
      "value:  3\n",
      "value:  2\n",
      "value:  0\n",
      "value:  -4\n",
      "value:  5\n",
      "The End\n"
     ]
    }
   ],
   "source": [
    "ll.traverse()"
   ]
  },
  {
   "cell_type": "code",
   "execution_count": null,
   "id": "e9879a7f-b962-4c07-936e-a8149de9d448",
   "metadata": {},
   "outputs": [],
   "source": []
  }
 ],
 "metadata": {
  "kernelspec": {
   "display_name": "Python 3 (ipykernel)",
   "language": "python",
   "name": "python3"
  },
  "language_info": {
   "codemirror_mode": {
    "name": "ipython",
    "version": 3
   },
   "file_extension": ".py",
   "mimetype": "text/x-python",
   "name": "python",
   "nbconvert_exporter": "python",
   "pygments_lexer": "ipython3",
   "version": "3.11.7"
  }
 },
 "nbformat": 4,
 "nbformat_minor": 5
}
